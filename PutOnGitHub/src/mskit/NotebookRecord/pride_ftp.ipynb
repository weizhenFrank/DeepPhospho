{
 "cells": [
  {
   "cell_type": "code",
   "execution_count": 1,
   "metadata": {},
   "outputs": [],
   "source": [
    "from ftplib import FTP\n"
   ]
  },
  {
   "cell_type": "markdown",
   "metadata": {},
   "source": [
    "ftp://ftp.pride.ebi.ac.uk/pride/data/archive/2020/02/PXD014525"
   ]
  },
  {
   "cell_type": "code",
   "execution_count": 9,
   "metadata": {},
   "outputs": [],
   "source": [
    "import requests"
   ]
  },
  {
   "cell_type": "code",
   "execution_count": 10,
   "metadata": {},
   "outputs": [],
   "source": [
    "a = requests.get('https://www.ebi.ac.uk/pride/ws/archive/file/list/project/PXD014525')\n"
   ]
  },
  {
   "cell_type": "code",
   "execution_count": 11,
   "metadata": {},
   "outputs": [],
   "source": [
    "import pandas as pd\n"
   ]
  },
  {
   "cell_type": "code",
   "execution_count": 12,
   "metadata": {},
   "outputs": [],
   "source": [
    "import os"
   ]
  },
  {
   "cell_type": "code",
   "execution_count": 13,
   "metadata": {},
   "outputs": [
    {
     "data": {
      "text/plain": [
       "('ftp://ftp.pride.ebi.ac.uk/pride/data/archive/2020/02/PXD014525',\n",
       " '20100113_125451_pilotExp-directDIA-LocProb-0-75.sne')"
      ]
     },
     "execution_count": 13,
     "metadata": {},
     "output_type": "execute_result"
    }
   ],
   "source": [
    "os.path.split(a.json()['list'][0]['downloadLink'])\n"
   ]
  },
  {
   "cell_type": "code",
   "execution_count": 14,
   "metadata": {},
   "outputs": [
    {
     "data": {
      "text/plain": [
       "{'projectAccession': 'PXD014525',\n",
       " 'assayAccession': 'N/A',\n",
       " 'fileType': 'SEARCH',\n",
       " 'fileSource': 'SUBMITTED',\n",
       " 'fileSize': 1827164332,\n",
       " 'fileName': '20100113_125451_pilotExp-directDIA-LocProb-0-75.sne',\n",
       " 'downloadLink': 'ftp://ftp.pride.ebi.ac.uk/pride/data/archive/2020/02/PXD014525/20100113_125451_pilotExp-directDIA-LocProb-0-75.sne',\n",
       " 'asperaDownloadLink': 'prd_ascp@fasp.ebi.ac.uk:pride/data/archive/2020/02/PXD014525/20100113_125451_pilotExp-directDIA-LocProb-0-75.sne'}"
      ]
     },
     "execution_count": 14,
     "metadata": {},
     "output_type": "execute_result"
    }
   ],
   "source": [
    "a.json()['list'][0]\n"
   ]
  },
  {
   "cell_type": "code",
   "execution_count": 17,
   "metadata": {},
   "outputs": [
    {
     "data": {
      "text/html": [
       "<div>\n",
       "<style scoped>\n",
       "    .dataframe tbody tr th:only-of-type {\n",
       "        vertical-align: middle;\n",
       "    }\n",
       "\n",
       "    .dataframe tbody tr th {\n",
       "        vertical-align: top;\n",
       "    }\n",
       "\n",
       "    .dataframe thead th {\n",
       "        text-align: right;\n",
       "    }\n",
       "</style>\n",
       "<table border=\"1\" class=\"dataframe\">\n",
       "  <thead>\n",
       "    <tr style=\"text-align: right;\">\n",
       "      <th></th>\n",
       "      <th>projectAccession</th>\n",
       "      <th>assayAccession</th>\n",
       "      <th>fileType</th>\n",
       "      <th>fileSource</th>\n",
       "      <th>fileSize</th>\n",
       "      <th>fileName</th>\n",
       "      <th>downloadLink</th>\n",
       "      <th>asperaDownloadLink</th>\n",
       "    </tr>\n",
       "  </thead>\n",
       "  <tbody>\n",
       "    <tr>\n",
       "      <td>0</td>\n",
       "      <td>PXD014525</td>\n",
       "      <td>N/A</td>\n",
       "      <td>SEARCH</td>\n",
       "      <td>SUBMITTED</td>\n",
       "      <td>1827164332</td>\n",
       "      <td>20100113_125451_pilotExp-directDIA-LocProb-0-7...</td>\n",
       "      <td>ftp://ftp.pride.ebi.ac.uk/pride/data/archive/2...</td>\n",
       "      <td>prd_ascp@fasp.ebi.ac.uk:pride/data/archive/202...</td>\n",
       "    </tr>\n",
       "    <tr>\n",
       "      <td>1</td>\n",
       "      <td>PXD014525</td>\n",
       "      <td>N/A</td>\n",
       "      <td>SEARCH</td>\n",
       "      <td>SUBMITTED</td>\n",
       "      <td>105614067</td>\n",
       "      <td>20190327_JPT_1scaling_0cutoff_Report.xls</td>\n",
       "      <td>ftp://ftp.pride.ebi.ac.uk/pride/data/archive/2...</td>\n",
       "      <td>prd_ascp@fasp.ebi.ac.uk:pride/data/archive/202...</td>\n",
       "    </tr>\n",
       "    <tr>\n",
       "      <td>2</td>\n",
       "      <td>PXD014525</td>\n",
       "      <td>N/A</td>\n",
       "      <td>SEARCH</td>\n",
       "      <td>SUBMITTED</td>\n",
       "      <td>95304130</td>\n",
       "      <td>20190327_Sigma_1scaling_0cutoff_Report.xls</td>\n",
       "      <td>ftp://ftp.pride.ebi.ac.uk/pride/data/archive/2...</td>\n",
       "      <td>prd_ascp@fasp.ebi.ac.uk:pride/data/archive/202...</td>\n",
       "    </tr>\n",
       "    <tr>\n",
       "      <td>3</td>\n",
       "      <td>PXD014525</td>\n",
       "      <td>N/A</td>\n",
       "      <td>SEARCH</td>\n",
       "      <td>SUBMITTED</td>\n",
       "      <td>14641174398</td>\n",
       "      <td>20190331_142702_PilotExp-STYversion13-RPE-libr...</td>\n",
       "      <td>ftp://ftp.pride.ebi.ac.uk/pride/data/archive/2...</td>\n",
       "      <td>prd_ascp@fasp.ebi.ac.uk:pride/data/archive/202...</td>\n",
       "    </tr>\n",
       "    <tr>\n",
       "      <td>4</td>\n",
       "      <td>PXD014525</td>\n",
       "      <td>N/A</td>\n",
       "      <td>SEARCH</td>\n",
       "      <td>SUBMITTED</td>\n",
       "      <td>32254742814</td>\n",
       "      <td>20190331_143946_PilotExp-STYversion-13-Combine...</td>\n",
       "      <td>ftp://ftp.pride.ebi.ac.uk/pride/data/archive/2...</td>\n",
       "      <td>prd_ascp@fasp.ebi.ac.uk:pride/data/archive/202...</td>\n",
       "    </tr>\n",
       "    <tr>\n",
       "      <td>...</td>\n",
       "      <td>...</td>\n",
       "      <td>...</td>\n",
       "      <td>...</td>\n",
       "      <td>...</td>\n",
       "      <td>...</td>\n",
       "      <td>...</td>\n",
       "      <td>...</td>\n",
       "      <td>...</td>\n",
       "    </tr>\n",
       "    <tr>\n",
       "      <td>467</td>\n",
       "      <td>PXD014525</td>\n",
       "      <td>N/A</td>\n",
       "      <td>OTHER</td>\n",
       "      <td>SUBMITTED</td>\n",
       "      <td>3564</td>\n",
       "      <td>parameters.txt</td>\n",
       "      <td>ftp://ftp.pride.ebi.ac.uk/pride/data/archive/2...</td>\n",
       "      <td>prd_ascp@fasp.ebi.ac.uk:pride/data/archive/202...</td>\n",
       "    </tr>\n",
       "    <tr>\n",
       "      <td>468</td>\n",
       "      <td>PXD014525</td>\n",
       "      <td>N/A</td>\n",
       "      <td>OTHER</td>\n",
       "      <td>SUBMITTED</td>\n",
       "      <td>10964493</td>\n",
       "      <td>peptides.txt</td>\n",
       "      <td>ftp://ftp.pride.ebi.ac.uk/pride/data/archive/2...</td>\n",
       "      <td>prd_ascp@fasp.ebi.ac.uk:pride/data/archive/202...</td>\n",
       "    </tr>\n",
       "    <tr>\n",
       "      <td>469</td>\n",
       "      <td>PXD014525</td>\n",
       "      <td>N/A</td>\n",
       "      <td>OTHER</td>\n",
       "      <td>SUBMITTED</td>\n",
       "      <td>7783517</td>\n",
       "      <td>proteinGroups.txt</td>\n",
       "      <td>ftp://ftp.pride.ebi.ac.uk/pride/data/archive/2...</td>\n",
       "      <td>prd_ascp@fasp.ebi.ac.uk:pride/data/archive/202...</td>\n",
       "    </tr>\n",
       "    <tr>\n",
       "      <td>470</td>\n",
       "      <td>PXD014525</td>\n",
       "      <td>N/A</td>\n",
       "      <td>OTHER</td>\n",
       "      <td>SUBMITTED</td>\n",
       "      <td>15102</td>\n",
       "      <td>summary.txt</td>\n",
       "      <td>ftp://ftp.pride.ebi.ac.uk/pride/data/archive/2...</td>\n",
       "      <td>prd_ascp@fasp.ebi.ac.uk:pride/data/archive/202...</td>\n",
       "    </tr>\n",
       "    <tr>\n",
       "      <td>471</td>\n",
       "      <td>PXD014525</td>\n",
       "      <td>N/A</td>\n",
       "      <td>OTHER</td>\n",
       "      <td>SUBMITTED</td>\n",
       "      <td>107128</td>\n",
       "      <td>tables.pdf</td>\n",
       "      <td>ftp://ftp.pride.ebi.ac.uk/pride/data/archive/2...</td>\n",
       "      <td>prd_ascp@fasp.ebi.ac.uk:pride/data/archive/202...</td>\n",
       "    </tr>\n",
       "  </tbody>\n",
       "</table>\n",
       "<p>472 rows × 8 columns</p>\n",
       "</div>"
      ],
      "text/plain": [
       "    projectAccession assayAccession fileType fileSource     fileSize  \\\n",
       "0          PXD014525            N/A   SEARCH  SUBMITTED   1827164332   \n",
       "1          PXD014525            N/A   SEARCH  SUBMITTED    105614067   \n",
       "2          PXD014525            N/A   SEARCH  SUBMITTED     95304130   \n",
       "3          PXD014525            N/A   SEARCH  SUBMITTED  14641174398   \n",
       "4          PXD014525            N/A   SEARCH  SUBMITTED  32254742814   \n",
       "..               ...            ...      ...        ...          ...   \n",
       "467        PXD014525            N/A    OTHER  SUBMITTED         3564   \n",
       "468        PXD014525            N/A    OTHER  SUBMITTED     10964493   \n",
       "469        PXD014525            N/A    OTHER  SUBMITTED      7783517   \n",
       "470        PXD014525            N/A    OTHER  SUBMITTED        15102   \n",
       "471        PXD014525            N/A    OTHER  SUBMITTED       107128   \n",
       "\n",
       "                                              fileName  \\\n",
       "0    20100113_125451_pilotExp-directDIA-LocProb-0-7...   \n",
       "1             20190327_JPT_1scaling_0cutoff_Report.xls   \n",
       "2           20190327_Sigma_1scaling_0cutoff_Report.xls   \n",
       "3    20190331_142702_PilotExp-STYversion13-RPE-libr...   \n",
       "4    20190331_143946_PilotExp-STYversion-13-Combine...   \n",
       "..                                                 ...   \n",
       "467                                     parameters.txt   \n",
       "468                                       peptides.txt   \n",
       "469                                  proteinGroups.txt   \n",
       "470                                        summary.txt   \n",
       "471                                         tables.pdf   \n",
       "\n",
       "                                          downloadLink  \\\n",
       "0    ftp://ftp.pride.ebi.ac.uk/pride/data/archive/2...   \n",
       "1    ftp://ftp.pride.ebi.ac.uk/pride/data/archive/2...   \n",
       "2    ftp://ftp.pride.ebi.ac.uk/pride/data/archive/2...   \n",
       "3    ftp://ftp.pride.ebi.ac.uk/pride/data/archive/2...   \n",
       "4    ftp://ftp.pride.ebi.ac.uk/pride/data/archive/2...   \n",
       "..                                                 ...   \n",
       "467  ftp://ftp.pride.ebi.ac.uk/pride/data/archive/2...   \n",
       "468  ftp://ftp.pride.ebi.ac.uk/pride/data/archive/2...   \n",
       "469  ftp://ftp.pride.ebi.ac.uk/pride/data/archive/2...   \n",
       "470  ftp://ftp.pride.ebi.ac.uk/pride/data/archive/2...   \n",
       "471  ftp://ftp.pride.ebi.ac.uk/pride/data/archive/2...   \n",
       "\n",
       "                                    asperaDownloadLink  \n",
       "0    prd_ascp@fasp.ebi.ac.uk:pride/data/archive/202...  \n",
       "1    prd_ascp@fasp.ebi.ac.uk:pride/data/archive/202...  \n",
       "2    prd_ascp@fasp.ebi.ac.uk:pride/data/archive/202...  \n",
       "3    prd_ascp@fasp.ebi.ac.uk:pride/data/archive/202...  \n",
       "4    prd_ascp@fasp.ebi.ac.uk:pride/data/archive/202...  \n",
       "..                                                 ...  \n",
       "467  prd_ascp@fasp.ebi.ac.uk:pride/data/archive/202...  \n",
       "468  prd_ascp@fasp.ebi.ac.uk:pride/data/archive/202...  \n",
       "469  prd_ascp@fasp.ebi.ac.uk:pride/data/archive/202...  \n",
       "470  prd_ascp@fasp.ebi.ac.uk:pride/data/archive/202...  \n",
       "471  prd_ascp@fasp.ebi.ac.uk:pride/data/archive/202...  \n",
       "\n",
       "[472 rows x 8 columns]"
      ]
     },
     "execution_count": 17,
     "metadata": {},
     "output_type": "execute_result"
    }
   ],
   "source": [
    "df = pd.DataFrame(a.json()['list'])\n",
    "df\n"
   ]
  },
  {
   "cell_type": "code",
   "execution_count": 18,
   "metadata": {},
   "outputs": [
    {
     "data": {
      "text/html": [
       "<div>\n",
       "<style scoped>\n",
       "    .dataframe tbody tr th:only-of-type {\n",
       "        vertical-align: middle;\n",
       "    }\n",
       "\n",
       "    .dataframe tbody tr th {\n",
       "        vertical-align: top;\n",
       "    }\n",
       "\n",
       "    .dataframe thead th {\n",
       "        text-align: right;\n",
       "    }\n",
       "</style>\n",
       "<table border=\"1\" class=\"dataframe\">\n",
       "  <thead>\n",
       "    <tr style=\"text-align: right;\">\n",
       "      <th></th>\n",
       "      <th>projectAccession</th>\n",
       "      <th>assayAccession</th>\n",
       "      <th>fileType</th>\n",
       "      <th>fileSource</th>\n",
       "      <th>fileSize</th>\n",
       "      <th>fileName</th>\n",
       "      <th>downloadLink</th>\n",
       "      <th>asperaDownloadLink</th>\n",
       "    </tr>\n",
       "  </thead>\n",
       "  <tbody>\n",
       "    <tr>\n",
       "      <td>16</td>\n",
       "      <td>PXD014525</td>\n",
       "      <td>N/A</td>\n",
       "      <td>RAW</td>\n",
       "      <td>SUBMITTED</td>\n",
       "      <td>1155338095</td>\n",
       "      <td>20171001_QE3_nLC7_DBJ_SA_DIAphos_2s_15k_15min_...</td>\n",
       "      <td>ftp://ftp.pride.ebi.ac.uk/pride/data/archive/2...</td>\n",
       "      <td>prd_ascp@fasp.ebi.ac.uk:pride/data/archive/202...</td>\n",
       "    </tr>\n",
       "  </tbody>\n",
       "</table>\n",
       "</div>"
      ],
      "text/plain": [
       "   projectAccession assayAccession fileType fileSource    fileSize  \\\n",
       "16        PXD014525            N/A      RAW  SUBMITTED  1155338095   \n",
       "\n",
       "                                             fileName  \\\n",
       "16  20171001_QE3_nLC7_DBJ_SA_DIAphos_2s_15k_15min_...   \n",
       "\n",
       "                                         downloadLink  \\\n",
       "16  ftp://ftp.pride.ebi.ac.uk/pride/data/archive/2...   \n",
       "\n",
       "                                   asperaDownloadLink  \n",
       "16  prd_ascp@fasp.ebi.ac.uk:pride/data/archive/202...  "
      ]
     },
     "execution_count": 18,
     "metadata": {},
     "output_type": "execute_result"
    }
   ],
   "source": [
    "df[df['fileName'] == '20171001_QE3_nLC7_DBJ_SA_DIAphos_2s_15k_15min_01.raw']\n"
   ]
  },
  {
   "cell_type": "code",
   "execution_count": null,
   "metadata": {},
   "outputs": [],
   "source": []
  },
  {
   "cell_type": "code",
   "execution_count": 2,
   "metadata": {},
   "outputs": [],
   "source": [
    "f = FTP()\n"
   ]
  },
  {
   "cell_type": "code",
   "execution_count": 3,
   "metadata": {},
   "outputs": [],
   "source": [
    "f.set_debuglevel(1)\n"
   ]
  },
  {
   "cell_type": "code",
   "execution_count": 5,
   "metadata": {},
   "outputs": [
    {
     "name": "stdout",
     "output_type": "stream",
     "text": [
      "*resp* '220-Welcome to ftp.ebi.ac.uk\\n220 '\n"
     ]
    },
    {
     "data": {
      "text/plain": [
       "'220-Welcome to ftp.ebi.ac.uk\\n220 '"
      ]
     },
     "execution_count": 5,
     "metadata": {},
     "output_type": "execute_result"
    }
   ],
   "source": [
    "_ = f.connect('193.62.197.74', )\n",
    "_\n"
   ]
  },
  {
   "cell_type": "code",
   "execution_count": 6,
   "metadata": {
    "scrolled": true
   },
   "outputs": [
    {
     "name": "stdout",
     "output_type": "stream",
     "text": [
      "*cmd* 'USER anonymous'\n",
      "*resp* '230 Login successful.'\n"
     ]
    },
    {
     "data": {
      "text/plain": [
       "'230 Login successful.'"
      ]
     },
     "execution_count": 6,
     "metadata": {},
     "output_type": "execute_result"
    }
   ],
   "source": [
    "_ = f.login('anonymous','your@email.address')\n",
    "_\n"
   ]
  },
  {
   "cell_type": "code",
   "execution_count": null,
   "metadata": {
    "scrolled": true
   },
   "outputs": [
    {
     "name": "stdout",
     "output_type": "stream",
     "text": [
      "*cmd* 'TYPE A'\n",
      "*resp* '200 Switching to ASCII mode.'\n",
      "*cmd* 'PASV'\n"
     ]
    }
   ],
   "source": [
    "_ = f.dir('/pride/data/archive/2020/02/')\n"
   ]
  },
  {
   "cell_type": "code",
   "execution_count": 7,
   "metadata": {},
   "outputs": [
    {
     "name": "stdout",
     "output_type": "stream",
     "text": [
      "*cmd* 'CWD pride/data/archive/2020/02/PXD014525'\n",
      "*resp* '250 Directory successfully changed.'\n"
     ]
    },
    {
     "data": {
      "text/plain": [
       "'250 Directory successfully changed.'"
      ]
     },
     "execution_count": 7,
     "metadata": {},
     "output_type": "execute_result"
    }
   ],
   "source": [
    "f.cwd('pride/data/archive/2020/02/PXD014525')\n"
   ]
  },
  {
   "cell_type": "code",
   "execution_count": null,
   "metadata": {},
   "outputs": [
    {
     "name": "stdout",
     "output_type": "stream",
     "text": [
      "*cmd* 'TYPE A'\n",
      "*resp* '200 Switching to ASCII mode.'\n",
      "*cmd* 'PASV'\n",
      "*resp* '227 Entering Passive Mode (193,62,197,74,157,131)'\n",
      "*cmd* 'LIST'\n",
      "*resp* '150 Here comes the directory listing.'\n",
      "-rw-rw-r--    1 ftp      ftp      106606639 Feb 17 20:18 20100113_092014_pilotExp-directDIA-LocProb-0-75_Report.txt\n",
      "-rw-rw-r--    1 ftp      ftp      1827164332 Feb 17 21:04 20100113_125451_pilotExp-directDIA-LocProb-0-75.sne\n",
      "-rw-rw-r--    1 ftp      ftp      1155338095 Feb 18 03:13 20171001_QE3_nLC7_DBJ_SA_DIAphos_2s_15k_15min_01.raw\n",
      "-rw-rw-r--    1 ftp      ftp      1186176376 Feb 18 12:39 20171001_QE3_nLC7_DBJ_SA_DIAphos_2s_15k_15min_02.raw\n",
      "-rw-rw-r--    1 ftp      ftp      1297697770 Feb 18 17:19 20171001_QE3_nLC7_DBJ_SA_DIAphos_2s_30k_15min_01.raw\n",
      "-rw-rw-r--    1 ftp      ftp      1413289899 Feb 18 15:49 20171001_QE3_nLC7_DBJ_SA_DIAphos_2s_30k_15min_02.raw\n",
      "-rw-rw-r--    1 ftp      ftp      974027667 Feb 18 07:39 20171001_QE3_nLC7_DBJ_SA_DIAphos_3s_15k_15min_01.raw\n",
      "-rw-rw-r--    1 ftp      ftp      1030785218 Feb 18 09:30 20171001_QE3_nLC7_DBJ_SA_DIAphos_3s_15k_15min_02.raw\n",
      "-rw-rw-r--    1 ftp      ftp      1248599529 Feb 18 14:43 20171001_QE3_nLC7_DBJ_SA_DIAphos_3s_30k_15min_01.raw\n",
      "-rw-rw-r--    1 ftp      ftp      1306866954 Feb 18 17:31 20171001_QE3_nLC7_DBJ_SA_DIAphos_3s_30k_15min_02.raw\n",
      "-rw-rw-r--    1 ftp      ftp      906737325 Feb 18 10:21 20171001_QE3_nLC7_DBJ_SA_DIAphos_4s_15k_15min_01.raw\n",
      "-rw-rw-r--    1 ftp      ftp      824110079 Feb 18 12:58 20171001_QE3_nLC7_DBJ_SA_DIAphos_4s_15k_15min_02.raw\n",
      "-rw-rw-r--    1 ftp      ftp      1152747457 Feb 17 19:57 20171001_QE3_nLC7_DBJ_SA_DIAphos_4s_30k_15min_01.raw\n",
      "-rw-rw-r--    1 ftp      ftp      1315310433 Feb 18 16:06 20171001_QE3_nLC7_DBJ_SA_DIAphos_4s_30k_15min_02.raw\n",
      "-rw-rw-r--    1 ftp      ftp      416829419 Feb 18 15:38 20171001_QE3_nLC7_DBJ_SA_LFQphos_LCMS_Rep_01.raw\n",
      "-rw-rw-r--    1 ftp      ftp      410419572 Feb 18 17:42 20171001_QE3_nLC7_DBJ_SA_LFQphos_LCMS_Rep_02.raw\n",
      "-rw-rw-r--    1 ftp      ftp      412000669 Feb 17 20:00 20171001_QE3_nLC7_DBJ_SA_LFQphos_LCMS_Rep_03.raw\n",
      "-rw-rw-r--    1 ftp      ftp      406899696 Feb 17 14:33 20171001_QE3_nLC7_DBJ_SA_LFQphos_LCMS_Rep_04.raw\n",
      "-rw-rw-r--    1 ftp      ftp      407580744 Feb 18 06:23 20171001_QE3_nLC7_DBJ_SA_LFQphos_LCMS_Rep_05.raw\n",
      "-rw-rw-r--    1 ftp      ftp      405621817 Feb 18 02:49 20171001_QE3_nLC7_DBJ_SA_LFQphos_LCMS_Rep_06.raw\n",
      "-rw-rw-r--    1 ftp      ftp      433412334 Feb 18 03:49 20171001_QE3_nLC7_DBJ_SA_LFQphos_Tech_Rep_01.raw\n",
      "-rw-rw-r--    1 ftp      ftp      434824058 Feb 18 02:25 20171001_QE3_nLC7_DBJ_SA_LFQphos_Tech_Rep_02.raw\n",
      "-rw-rw-r--    1 ftp      ftp      434451859 Feb 17 21:01 20171001_QE3_nLC7_DBJ_SA_LFQphos_Tech_Rep_03.raw\n",
      "-rw-rw-r--    1 ftp      ftp      433057911 Feb 17 13:53 20171001_QE3_nLC7_DBJ_SA_LFQphos_Tech_Rep_04.raw\n",
      "-rw-rw-r--    1 ftp      ftp      437527359 Feb 18 16:18 20171001_QE3_nLC7_DBJ_SA_LFQphos_Tech_Rep_05.raw\n",
      "-rw-rw-r--    1 ftp      ftp      431939250 Feb 18 15:48 20171001_QE3_nLC7_DBJ_SA_LFQphos_Tech_Rep_06.raw\n",
      "-rw-rw-r--    1 ftp      ftp      546866320 Feb 17 13:54 20171024_QE5_nLC3_DBJ_SA_LFQphos_RPE1_Pilot2_Cobimetinib_0-5uM_01.raw\n",
      "-rw-rw-r--    1 ftp      ftp      608783628 Feb 18 06:18 20171024_QE5_nLC3_DBJ_SA_LFQphos_RPE1_Pilot2_Cobimetinib_0-5uM_02.raw\n",
      "-rw-rw-r--    1 ftp      ftp      660628964 Feb 18 01:27 20171024_QE5_nLC3_DBJ_SA_LFQphos_RPE1_Pilot2_Cobimetinib_0-5uM_03.raw\n",
      "-rw-rw-r--    1 ftp      ftp      531227868 Feb 18 07:41 20171024_QE5_nLC3_DBJ_SA_LFQphos_RPE1_Pilot2_Cobimetinib_5uM_01.raw\n",
      "-rw-rw-r--    1 ftp      ftp      601318688 Feb 18 10:05 20171024_QE5_nLC3_DBJ_SA_LFQphos_RPE1_Pilot2_Cobimetinib_5uM_02.raw\n",
      "-rw-rw-r--    1 ftp      ftp      646026688 Feb 18 12:19 20171024_QE5_nLC3_DBJ_SA_LFQphos_RPE1_Pilot2_Cobimetinib_5uM_03.raw\n",
      "-rw-rw-r--    1 ftp      ftp      625601444 Feb 17 22:36 20171024_QE5_nLC3_DBJ_SA_LFQphos_RPE1_Pilot2_EGF_01.raw\n",
      "-rw-rw-r--    1 ftp      ftp      680636756 Feb 18 04:07 20171024_QE5_nLC3_DBJ_SA_LFQphos_RPE1_Pilot2_EGF_02.raw\n",
      "-rw-rw-r--    1 ftp      ftp      639299476 Feb 18 08:01 20171024_QE5_nLC3_DBJ_SA_LFQphos_RPE1_Pilot2_EGF_03.raw\n",
      "-rw-rw-r--    1 ftp      ftp      599466296 Feb 17 20:51 20171024_QE5_nLC3_DBJ_SA_LFQphos_RPE1_Pilot2_NoSerum_01.raw\n",
      "-rw-rw-r--    1 ftp      ftp      625403176 Feb 18 01:07 20171024_QE5_nLC3_DBJ_SA_LFQphos_RPE1_Pilot2_NoSerum_02.raw\n",
      "-rw-rw-r--    1 ftp      ftp      623975488 Feb 18 05:58 20171024_QE5_nLC3_DBJ_SA_LFQphos_RPE1_Pilot2_NoSerum_03.raw\n",
      "-rw-rw-r--    1 ftp      ftp      596194920 Feb 18 17:21 20171024_QE5_nLC3_DBJ_SA_LFQphos_RPE1_Pilot2_PD0325901_0-5uM_01.raw\n",
      "-rw-rw-r--    1 ftp      ftp      584786916 Feb 18 15:38 20171024_QE5_nLC3_DBJ_SA_LFQphos_RPE1_Pilot2_PD0325901_0-5uM_02.raw\n",
      "-rw-rw-r--    1 ftp      ftp      639263228 Feb 18 11:51 20171024_QE5_nLC3_DBJ_SA_LFQphos_RPE1_Pilot2_PD0325901_0-5uM_03.raw\n",
      "-rw-rw-r--    1 ftp      ftp      592025828 Feb 18 07:54 20171024_QE5_nLC3_DBJ_SA_LFQphos_RPE1_Pilot2_PD0325901_5uM_02.raw\n",
      "-rw-rw-r--    1 ftp      ftp      593112696 Feb 18 03:56 20171024_QE5_nLC3_DBJ_SA_LFQphos_RPE1_Pilot2_PD0325901_5uM_03.raw\n",
      "-rw-rw-r--    1 ftp      ftp      1231934143 Feb 18 10:24 20171125_QE7_nLC14_DBJ_SA_DIAphos_RPE1_pilot2_Cobimetinib_0-5uM_01.raw\n",
      "-rw-rw-r--    1 ftp      ftp      1384209471 Feb 18 17:46 20171125_QE7_nLC14_DBJ_SA_DIAphos_RPE1_pilot2_Cobimetinib_0-5uM_02.raw\n",
      "-rw-rw-r--    1 ftp      ftp      1486371374 Feb 18 15:35 20171125_QE7_nLC14_DBJ_SA_DIAphos_RPE1_pilot2_Cobimetinib_0-5uM_03.raw\n",
      "-rw-rw-r--    1 ftp      ftp      1113510611 Feb 18 16:26 20171125_QE7_nLC14_DBJ_SA_DIAphos_RPE1_pilot2_Cobimetinib_5uM_01.raw\n",
      "-rw-rw-r--    1 ftp      ftp      1248727523 Feb 18 15:28 20171125_QE7_nLC14_DBJ_SA_DIAphos_RPE1_pilot2_Cobimetinib_5uM_02.raw\n",
      "-rw-rw-r--    1 ftp      ftp      1381510866 Feb 18 10:59 20171125_QE7_nLC14_DBJ_SA_DIAphos_RPE1_pilot2_Cobimetinib_5uM_03.raw\n",
      "-rw-rw-r--    1 ftp      ftp      1472001090 Feb 18 07:48 20171125_QE7_nLC14_DBJ_SA_DIAphos_RPE1_pilot2_EGF_01.raw\n",
      "-rw-rw-r--    1 ftp      ftp      1366975970 Feb 17 20:17 20171125_QE7_nLC14_DBJ_SA_DIAphos_RPE1_pilot2_EGF_02.raw\n",
      "-rw-rw-r--    1 ftp      ftp      1479710709 Feb 17 22:48 20171125_QE7_nLC14_DBJ_SA_DIAphos_RPE1_pilot2_EGF_03.raw\n",
      "-rw-rw-r--    1 ftp      ftp      1363876463 Feb 18 01:41 20171125_QE7_nLC14_DBJ_SA_DIAphos_RPE1_pilot2_NoSerum_01.raw\n",
      "-rw-rw-r--    1 ftp      ftp      1413759761 Feb 18 04:12 20171125_QE7_nLC14_DBJ_SA_DIAphos_RPE1_pilot2_NoSerum_02.raw\n",
      "-rw-rw-r--    1 ftp      ftp      1247691216 Feb 18 00:53 20171125_QE7_nLC14_DBJ_SA_DIAphos_RPE1_pilot2_NoSerum_03.raw\n",
      "-rw-rw-r--    1 ftp      ftp      1296397676 Feb 18 02:54 20171125_QE7_nLC14_DBJ_SA_DIAphos_RPE1_pilot2_PD0325901_0-5uM_01.raw\n",
      "-rw-rw-r--    1 ftp      ftp      1153164827 Feb 18 05:40 20171125_QE7_nLC14_DBJ_SA_DIAphos_RPE1_pilot2_PD0325901_0-5uM_02.raw\n",
      "-rw-rw-r--    1 ftp      ftp      1364128043 Feb 17 14:31 20171125_QE7_nLC14_DBJ_SA_DIAphos_RPE1_pilot2_PD0325901_0-5uM_03.raw\n",
      "-rw-rw-r--    1 ftp      ftp      1503734846 Feb 18 12:04 20171125_QE7_nLC14_DBJ_SA_DIAphos_RPE1_pilot2_PD0325901_5uM_01.raw\n",
      "-rw-rw-r--    1 ftp      ftp      1469168898 Feb 18 09:53 20171125_QE7_nLC14_DBJ_SA_DIAphos_RPE1_pilot2_PD0325901_5uM_02.raw\n",
      "-rw-rw-r--    1 ftp      ftp      1607394354 Feb 18 16:22 20171125_QE7_nLC14_DBJ_SA_DIAphos_RPE1_pilot2_PD0325901_5uM_03.raw\n",
      "-rw-rw-r--    1 ftp      ftp      1298809969 Feb 18 01:33 20180202_QE7_nLC7_DBJ_SA_DIAphos_RPE1_Akti_Akt-1-2_0-1_rep4_01.raw\n",
      "-rw-rw-r--    1 ftp      ftp      923650436 Feb 18 01:21 20180202_QE7_nLC7_DBJ_SA_DIAphos_RPE1_Akti_Akt-1-2_0-1_rep5_01.raw\n",
      "-rw-rw-r--    1 ftp      ftp      1112532530 Feb 17 13:57 20180202_QE7_nLC7_DBJ_SA_DIAphos_RPE1_Akti_Akt-1-2_0-1_rep6_01.raw\n",
      "-rw-rw-r--    1 ftp      ftp      1229127118 Feb 17 20:35 20180202_QE7_nLC7_DBJ_SA_DIAphos_RPE1_Akti_Akt-1-2_1_rep4_01.raw\n",
      "-rw-rw-r--    1 ftp      ftp      1173607903 Feb 18 05:55 20180202_QE7_nLC7_DBJ_SA_DIAphos_RPE1_Akti_Akt-1-2_1_rep5_01.raw\n",
      "-rw-rw-r--    1 ftp      ftp      1295952393 Feb 18 11:18 20180202_QE7_nLC7_DBJ_SA_DIAphos_RPE1_Akti_Akt-1-2_1_rep6_01.raw\n",
      "-rw-rw-r--    1 ftp      ftp      1397464872 Feb 18 08:18 20180202_QE7_nLC7_DBJ_SA_DIAphos_RPE1_Akti_MK-2206_0-1_rep4_01.raw\n",
      "-rw-rw-r--    1 ftp      ftp      1420940983 Feb 18 14:40 20180202_QE7_nLC7_DBJ_SA_DIAphos_RPE1_Akti_MK-2206_0-1_rep5_01.raw\n",
      "-rw-rw-r--    1 ftp      ftp      1238982693 Feb 17 13:56 20180202_QE7_nLC7_DBJ_SA_DIAphos_RPE1_Akti_MK-2206_0-1_rep6_01.raw\n",
      "-rw-rw-r--    1 ftp      ftp      1077819062 Feb 18 01:45 20180202_QE7_nLC7_DBJ_SA_DIAphos_RPE1_Akti_MK-2206_1_rep4_01.raw\n",
      "-rw-rw-r--    1 ftp      ftp      1078487528 Feb 18 08:42 20180202_QE7_nLC7_DBJ_SA_DIAphos_RPE1_Akti_MK-2206_1_rep5_01.raw\n",
      "-rw-rw-r--    1 ftp      ftp      1330398039 Feb 18 14:59 20180202_QE7_nLC7_DBJ_SA_DIAphos_RPE1_Akti_MK-2206_1_rep6_01.raw\n",
      "-rw-rw-r--    1 ftp      ftp      1236167209 Feb 18 15:48 20180202_QE7_nLC7_DBJ_SA_DIAphos_RPE1_Akti_Perifosine_0-1_rep4_01.raw\n",
      "-rw-rw-r--    1 ftp      ftp      912016189 Feb 17 20:49 20180202_QE7_nLC7_DBJ_SA_DIAphos_RPE1_Akti_Perifosine_0-1_rep5_01.raw\n",
      "-rw-rw-r--    1 ftp      ftp      1217825973 Feb 18 07:14 20180202_QE7_nLC7_DBJ_SA_DIAphos_RPE1_Akti_Perifosine_0-1_rep6_01.raw\n",
      "-rw-rw-r--    1 ftp      ftp      1070052789 Feb 18 03:04 20180202_QE7_nLC7_DBJ_SA_DIAphos_RPE1_Akti_Perifosine_1_rep4_01.raw\n",
      "-rw-rw-r--    1 ftp      ftp      1173250534 Feb 17 21:13 20180202_QE7_nLC7_DBJ_SA_DIAphos_RPE1_Akti_Perifosine_1_rep5_01.raw\n",
      "-rw-rw-r--    1 ftp      ftp      1521472611 Feb 18 16:45 20180202_QE7_nLC7_DBJ_SA_DIAphos_RPE1_Akti_Perifosine_1_rep6_01.raw\n",
      "-rw-rw-r--    1 ftp      ftp      1221777506 Feb 17 20:42 20180202_QE7_nLC7_DBJ_SA_DIAphos_RPE1_EGFRi_AG1478_0-1_rep4_01.raw\n",
      "-rw-rw-r--    1 ftp      ftp      1163531253 Feb 18 06:15 20180202_QE7_nLC7_DBJ_SA_DIAphos_RPE1_EGFRi_AG1478_0-1_rep5_01.raw\n",
      "-rw-rw-r--    1 ftp      ftp      1241161114 Feb 18 11:16 20180202_QE7_nLC7_DBJ_SA_DIAphos_RPE1_EGFRi_AG1478_0-1_rep6_01.raw\n",
      "-rw-rw-r--    1 ftp      ftp      967652641 Feb 18 00:45 20180202_QE7_nLC7_DBJ_SA_DIAphos_RPE1_EGFRi_AG1478_1_rep4_01.raw\n",
      "-rw-rw-r--    1 ftp      ftp      989767536 Feb 17 19:56 20180202_QE7_nLC7_DBJ_SA_DIAphos_RPE1_EGFRi_AG1478_1_rep5_01.raw\n",
      "-rw-rw-r--    1 ftp      ftp      1000692470 Feb 18 04:45 20180202_QE7_nLC7_DBJ_SA_DIAphos_RPE1_EGFRi_AG1478_1_rep6_01.raw\n",
      "-rw-rw-r--    1 ftp      ftp      1059409778 Feb 18 15:44 20180202_QE7_nLC7_DBJ_SA_DIAphos_RPE1_EGFRi_Erlotinib_0-1_rep4_01.raw\n",
      "-rw-rw-r--    1 ftp      ftp      1218811906 Feb 18 06:21 20180202_QE7_nLC7_DBJ_SA_DIAphos_RPE1_EGFRi_Erlotinib_0-1_rep5_01.raw\n",
      "-rw-rw-r--    1 ftp      ftp      1314562688 Feb 18 12:45 20180202_QE7_nLC7_DBJ_SA_DIAphos_RPE1_EGFRi_Erlotinib_0-1_rep6_01.raw\n",
      "-rw-rw-r--    1 ftp      ftp      1193858598 Feb 18 04:20 20180202_QE7_nLC7_DBJ_SA_DIAphos_RPE1_EGFRi_Erlotinib_1_rep4_01.raw\n",
      "-rw-rw-r--    1 ftp      ftp      1122429558 Feb 18 06:25 20180202_QE7_nLC7_DBJ_SA_DIAphos_RPE1_EGFRi_Erlotinib_1_rep5_01.raw\n"
     ]
    },
    {
     "name": "stdout",
     "output_type": "stream",
     "text": [
      "-rw-rw-r--    1 ftp      ftp      1251565346 Feb 18 12:55 20180202_QE7_nLC7_DBJ_SA_DIAphos_RPE1_EGFRi_Erlotinib_1_rep6_01.raw\n",
      "-rw-rw-r--    1 ftp      ftp      1186246773 Feb 18 09:02 20180202_QE7_nLC7_DBJ_SA_DIAphos_RPE1_EGFRi_Lapatinib_0-1_rep4_01.raw\n",
      "-rw-rw-r--    1 ftp      ftp      1225738913 Feb 18 04:42 20180202_QE7_nLC7_DBJ_SA_DIAphos_RPE1_EGFRi_Lapatinib_0-1_rep5_01.raw\n",
      "-rw-rw-r--    1 ftp      ftp      1289600045 Feb 17 19:51 20180202_QE7_nLC7_DBJ_SA_DIAphos_RPE1_EGFRi_Lapatinib_0-1_rep6_01.raw\n",
      "-rw-rw-r--    1 ftp      ftp      1187499167 Feb 18 10:52 20180202_QE7_nLC7_DBJ_SA_DIAphos_RPE1_EGFRi_Lapatinib_1_rep4_01.raw\n",
      "-rw-rw-r--    1 ftp      ftp      819599912 Feb 18 11:42 20180202_QE7_nLC7_DBJ_SA_DIAphos_RPE1_EGFRi_Lapatinib_1_rep5_01.raw\n",
      "-rw-rw-r--    1 ftp      ftp      1054327407 Feb 18 17:37 20180202_QE7_nLC7_DBJ_SA_DIAphos_RPE1_EGFRi_Lapatinib_1_rep6_01.raw\n",
      "-rw-rw-r--    1 ftp      ftp      1197815185 Feb 18 16:13 20180202_QE7_nLC7_DBJ_SA_DIAphos_RPE1_EGF_rep4_01.raw\n",
      "-rw-rw-r--    1 ftp      ftp      1078080223 Feb 18 02:23 20180202_QE7_nLC7_DBJ_SA_DIAphos_RPE1_EGF_rep6_01_20180207153522.raw\n",
      "-rw-rw-r--    1 ftp      ftp      863627185 Feb 18 16:46 20180202_QE7_nLC7_DBJ_SA_DIAphos_RPE1_GSK3i_BIO_0-1_rep4_01.raw\n",
      "-rw-rw-r--    1 ftp      ftp      1196186385 Feb 18 12:20 20180202_QE7_nLC7_DBJ_SA_DIAphos_RPE1_GSK3i_BIO_0-1_rep5_01.raw\n"
     ]
    }
   ],
   "source": [
    "f.dir()\n"
   ]
  },
  {
   "cell_type": "code",
   "execution_count": 8,
   "metadata": {},
   "outputs": [
    {
     "name": "stdout",
     "output_type": "stream",
     "text": [
      "*cmd* 'SIZE 20171001_QE3_nLC7_DBJ_SA_DIAphos_2s_15k_15min_01.raw'\n",
      "*resp* '213 1155338095'\n"
     ]
    },
    {
     "data": {
      "text/plain": [
       "1155338095"
      ]
     },
     "execution_count": 8,
     "metadata": {},
     "output_type": "execute_result"
    }
   ],
   "source": [
    "f.size('20171001_QE3_nLC7_DBJ_SA_DIAphos_2s_15k_15min_01.raw')\n"
   ]
  },
  {
   "cell_type": "code",
   "execution_count": null,
   "metadata": {},
   "outputs": [],
   "source": []
  }
 ],
 "metadata": {
  "kernelspec": {
   "display_name": "Python 3",
   "language": "python",
   "name": "python3"
  },
  "language_info": {
   "codemirror_mode": {
    "name": "ipython",
    "version": 3
   },
   "file_extension": ".py",
   "mimetype": "text/x-python",
   "name": "python",
   "nbconvert_exporter": "python",
   "pygments_lexer": "ipython3",
   "version": "3.7.4"
  }
 },
 "nbformat": 4,
 "nbformat_minor": 2
}
